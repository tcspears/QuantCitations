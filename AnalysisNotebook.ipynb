{
 "cells": [
  {
   "cell_type": "code",
   "execution_count": 1,
   "metadata": {},
   "outputs": [],
   "source": [
    "from sqlalchemy import create_engine\n",
    "from sqlalchemy.orm import sessionmaker\n",
    "import db\n",
    "import cache\n",
    "import analysis\n",
    "import settings\n",
    "import pandas as pd\n",
    "import gensim\n",
    "import functools\n",
    "import gc"
   ]
  },
  {
   "cell_type": "markdown",
   "metadata": {},
   "source": [
    "Set up database connection"
   ]
  },
  {
   "cell_type": "code",
   "execution_count": 17,
   "metadata": {},
   "outputs": [],
   "source": [
    "import settings\n",
    "\n",
    "engine = create_engine(settings.SQL_URL, echo=False)\n",
    "Session = sessionmaker(bind=engine)\n",
    "session = Session()"
   ]
  },
  {
   "cell_type": "code",
   "execution_count": null,
   "metadata": {},
   "outputs": [],
   "source": [
    "Test database connection"
   ]
  },
  {
   "cell_type": "code",
   "execution_count": 3,
   "metadata": {},
   "outputs": [
    {
     "name": "stderr",
     "output_type": "stream",
     "text": [
      "/home/ubuntu/.local/lib/python3.8/site-packages/sqlalchemy/orm/relationships.py:1993: SAWarning: Setting backref / back_populates on relationship CitationChain.chain_origin to refer to viewonly relationship Article.chain_descendents should include sync_backref=False set on the CitationChain.chain_origin relationship.  (this warning may be suppressed after 10 occurrences)\n",
      "  util.warn_limited(\n",
      "/home/ubuntu/.local/lib/python3.8/site-packages/sqlalchemy/orm/relationships.py:1993: SAWarning: Setting backref / back_populates on relationship Article.chain_descendents to refer to viewonly relationship CitationChain.chain_origin should include sync_backref=False set on the Article.chain_descendents relationship.  (this warning may be suppressed after 10 occurrences)\n",
      "  util.warn_limited(\n"
     ]
    }
   ],
   "source": [
    "brennan_schwartz = analysis.lookup_by_handle('RePEc:eee:jbfina:v:3:y:1979:i:2:p:133-155', session)\n",
    "brennan_schwartz_desc = analysis.get_descendants(brennan_schwartz, session, 1)\n",
    "len(brennan_schwartz_desc)"
   ]
  },
  {
   "cell_type": "markdown",
   "metadata": {},
   "source": [
    "Get all abstracts and save to CSV"
   ]
  },
  {
   "cell_type": "code",
   "execution_count": null,
   "metadata": {},
   "outputs": [],
   "source": [
    "abstracts = analysis.build_abstracts_df(session)\n",
    "abstracts.to_csv('../quantcites_data/abstracts_df.csv', index=None)"
   ]
  },
  {
   "cell_type": "code",
   "execution_count": 6,
   "metadata": {},
   "outputs": [],
   "source": [
    "Reload abstracts"
   ]
  },
  {
   "cell_type": "code",
   "execution_count": 48,
   "metadata": {},
   "outputs": [],
   "source": [
    "abstracts = pd.read_csv('../quantcites_data/abstracts_df.csv')"
   ]
  },
  {
   "cell_type": "code",
   "execution_count": 24,
   "metadata": {},
   "outputs": [
    {
     "data": {
      "text/plain": [
       "800212"
      ]
     },
     "execution_count": 24,
     "metadata": {},
     "output_type": "execute_result"
    }
   ],
   "source": [
    "len(abstracts)"
   ]
  },
  {
   "cell_type": "code",
   "execution_count": 49,
   "metadata": {},
   "outputs": [
    {
     "data": {
      "text/html": [
       "<div>\n",
       "<style scoped>\n",
       "    .dataframe tbody tr th:only-of-type {\n",
       "        vertical-align: middle;\n",
       "    }\n",
       "\n",
       "    .dataframe tbody tr th {\n",
       "        vertical-align: top;\n",
       "    }\n",
       "\n",
       "    .dataframe thead th {\n",
       "        text-align: right;\n",
       "    }\n",
       "</style>\n",
       "<table border=\"1\" class=\"dataframe\">\n",
       "  <thead>\n",
       "    <tr style=\"text-align: right;\">\n",
       "      <th></th>\n",
       "      <th>Handle</th>\n",
       "      <th>Year</th>\n",
       "      <th>Abstract</th>\n",
       "    </tr>\n",
       "  </thead>\n",
       "  <tbody>\n",
       "    <tr>\n",
       "      <th>0</th>\n",
       "      <td>RePEc:ecm:emetrp:v:53:y:1985:i:2:p:385-407</td>\n",
       "      <td>1985</td>\n",
       "      <td>AbstractThis paper uses an intertemporal gener...</td>\n",
       "    </tr>\n",
       "    <tr>\n",
       "      <th>3</th>\n",
       "      <td>RePEc:ecm:emetrp:v:60:y:1992:i:1:p:77-105</td>\n",
       "      <td>1992</td>\n",
       "      <td>This paper presents a unifying theory for valu...</td>\n",
       "    </tr>\n",
       "    <tr>\n",
       "      <th>7</th>\n",
       "      <td>RePEc:ucp:jnlbus:v:60:y:1987:i:4:p:473-89</td>\n",
       "      <td>1987</td>\n",
       "      <td>This paper introduces a parametrically parsimo...</td>\n",
       "    </tr>\n",
       "    <tr>\n",
       "      <th>8</th>\n",
       "      <td>RePEc:bla:jfinan:v:47:y:1992:i:4:p:1259-82</td>\n",
       "      <td>1992</td>\n",
       "      <td>The authors develop a two-factor general equil...</td>\n",
       "    </tr>\n",
       "    <tr>\n",
       "      <th>9</th>\n",
       "      <td>RePEc:bla:mathfi:v:7:y:1997:i:2:p:127-155</td>\n",
       "      <td>1997</td>\n",
       "      <td>A class of term structure models with volatili...</td>\n",
       "    </tr>\n",
       "    <tr>\n",
       "      <th>...</th>\n",
       "      <td>...</td>\n",
       "      <td>...</td>\n",
       "      <td>...</td>\n",
       "    </tr>\n",
       "    <tr>\n",
       "      <th>800207</th>\n",
       "      <td>RePEc:pra:mprapa:99391</td>\n",
       "      <td>2020</td>\n",
       "      <td>We investigate whether joining the European Mo...</td>\n",
       "    </tr>\n",
       "    <tr>\n",
       "      <th>800208</th>\n",
       "      <td>RePEc:wrk:warwec:1280</td>\n",
       "      <td>2020</td>\n",
       "      <td>The United Kingdom (UK) reported record employ...</td>\n",
       "    </tr>\n",
       "    <tr>\n",
       "      <th>800209</th>\n",
       "      <td>RePEc:unu:wpaper:wp-2016-87</td>\n",
       "      <td>2016</td>\n",
       "      <td>We investigate whether there are racial and et...</td>\n",
       "    </tr>\n",
       "    <tr>\n",
       "      <th>800210</th>\n",
       "      <td>RePEc:sae:joupea:v:57:y:2020:i:1:p:126-139</td>\n",
       "      <td>2020</td>\n",
       "      <td>There is as yet little consensus in the litera...</td>\n",
       "    </tr>\n",
       "    <tr>\n",
       "      <th>800211</th>\n",
       "      <td>RePEc:iza:izadps:dp13579</td>\n",
       "      <td>2020</td>\n",
       "      <td>There were large regional differentials in the...</td>\n",
       "    </tr>\n",
       "  </tbody>\n",
       "</table>\n",
       "<p>736094 rows × 3 columns</p>\n",
       "</div>"
      ],
      "text/plain": [
       "                                            Handle  Year  \\\n",
       "0       RePEc:ecm:emetrp:v:53:y:1985:i:2:p:385-407  1985   \n",
       "3        RePEc:ecm:emetrp:v:60:y:1992:i:1:p:77-105  1992   \n",
       "7        RePEc:ucp:jnlbus:v:60:y:1987:i:4:p:473-89  1987   \n",
       "8       RePEc:bla:jfinan:v:47:y:1992:i:4:p:1259-82  1992   \n",
       "9        RePEc:bla:mathfi:v:7:y:1997:i:2:p:127-155  1997   \n",
       "...                                            ...   ...   \n",
       "800207                      RePEc:pra:mprapa:99391  2020   \n",
       "800208                       RePEc:wrk:warwec:1280  2020   \n",
       "800209                 RePEc:unu:wpaper:wp-2016-87  2016   \n",
       "800210  RePEc:sae:joupea:v:57:y:2020:i:1:p:126-139  2020   \n",
       "800211                    RePEc:iza:izadps:dp13579  2020   \n",
       "\n",
       "                                                 Abstract  \n",
       "0       AbstractThis paper uses an intertemporal gener...  \n",
       "3       This paper presents a unifying theory for valu...  \n",
       "7       This paper introduces a parametrically parsimo...  \n",
       "8       The authors develop a two-factor general equil...  \n",
       "9       A class of term structure models with volatili...  \n",
       "...                                                   ...  \n",
       "800207  We investigate whether joining the European Mo...  \n",
       "800208  The United Kingdom (UK) reported record employ...  \n",
       "800209  We investigate whether there are racial and et...  \n",
       "800210  There is as yet little consensus in the litera...  \n",
       "800211  There were large regional differentials in the...  \n",
       "\n",
       "[736094 rows x 3 columns]"
      ]
     },
     "execution_count": 49,
     "metadata": {},
     "output_type": "execute_result"
    }
   ],
   "source": [
    "abstracts.drop_duplicates(subset=\"Abstract\")\n",
    "abstracts = abstracts[abstracts.Abstract != \"No abstract is available for this item.\"]\n",
    "abstracts"
   ]
  },
  {
   "cell_type": "markdown",
   "metadata": {},
   "source": [
    "Build the gensim word2vec pipeline"
   ]
  },
  {
   "cell_type": "code",
   "execution_count": 50,
   "metadata": {},
   "outputs": [],
   "source": [
    "abstracts_only = list(map(lambda x: gensim.utils.simple_preprocess(x), abstracts['Abstract'].tolist()))"
   ]
  },
  {
   "cell_type": "code",
   "execution_count": 30,
   "metadata": {},
   "outputs": [
    {
     "ename": "NameError",
     "evalue": "name 'abstracts' is not defined",
     "output_type": "error",
     "traceback": [
      "\u001B[0;31m---------------------------------------------------------------------------\u001B[0m",
      "\u001B[0;31mNameError\u001B[0m                                 Traceback (most recent call last)",
      "\u001B[0;32m<ipython-input-30-934a647c4a21>\u001B[0m in \u001B[0;36m<module>\u001B[0;34m\u001B[0m\n\u001B[0;32m----> 1\u001B[0;31m \u001B[0;32mdel\u001B[0m \u001B[0mabstracts\u001B[0m\u001B[0;34m\u001B[0m\u001B[0;34m\u001B[0m\u001B[0m\n\u001B[0m\u001B[1;32m      2\u001B[0m \u001B[0;32mdel\u001B[0m \u001B[0mbrennan_schwartz\u001B[0m\u001B[0;34m\u001B[0m\u001B[0;34m\u001B[0m\u001B[0m\n\u001B[1;32m      3\u001B[0m \u001B[0mgc\u001B[0m\u001B[0;34m.\u001B[0m\u001B[0mcollect\u001B[0m\u001B[0;34m(\u001B[0m\u001B[0;34m)\u001B[0m\u001B[0;34m\u001B[0m\u001B[0;34m\u001B[0m\u001B[0m\n",
      "\u001B[0;31mNameError\u001B[0m: name 'abstracts' is not defined"
     ]
    }
   ],
   "source": [
    "del abstracts\n",
    "del brennan_schwartz"
   ]
  },
  {
   "cell_type": "code",
   "execution_count": 31,
   "metadata": {},
   "outputs": [
    {
     "data": {
      "text/plain": [
       "30"
      ]
     },
     "execution_count": 31,
     "metadata": {},
     "output_type": "execute_result"
    }
   ],
   "source": [
    "gc.collect()"
   ]
  },
  {
   "cell_type": "code",
   "execution_count": 34,
   "metadata": {},
   "outputs": [],
   "source": [
    "# build vocabulary and train model\n",
    "model = gensim.models.Word2Vec(abstracts_only, \n",
    "                               vector_size=256,\n",
    "                               window=10,\n",
    "                               min_count=4,\n",
    "                               workers=10,\n",
    "                               epochs=20)"
   ]
  },
  {
   "cell_type": "code",
   "execution_count": 41,
   "metadata": {},
   "outputs": [],
   "source": [
    "model.save(\"gensim_word_vectors_256_singleword.model\")"
   ]
  },
  {
   "cell_type": "code",
   "execution_count": 45,
   "metadata": {},
   "outputs": [
    {
     "data": {
      "text/plain": [
       "129348"
      ]
     },
     "execution_count": 45,
     "metadata": {},
     "output_type": "execute_result"
    }
   ],
   "source": [
    "len(model.wv)"
   ]
  },
  {
   "cell_type": "code",
   "execution_count": 46,
   "metadata": {},
   "outputs": [],
   "source": [
    "from gensim.models.phrases import Phrases, Phraser"
   ]
  },
  {
   "cell_type": "code",
   "execution_count": 70,
   "metadata": {},
   "outputs": [],
   "source": [
    "def build_phrases(sentences):\n",
    "    phrases = Phrases(sentences,\n",
    "                      min_count=3,\n",
    "                      threshold=7,\n",
    "                      progress_per=1000)\n",
    "    return Phraser(phrases)"
   ]
  },
  {
   "cell_type": "code",
   "execution_count": 71,
   "metadata": {},
   "outputs": [],
   "source": [
    "phrases = build_phrases(abstracts_only)"
   ]
  },
  {
   "cell_type": "code",
   "execution_count": 65,
   "metadata": {},
   "outputs": [],
   "source": [
    "phrases.save('../gensim_models/phrases_model_threshold7.txt')"
   ]
  },
  {
   "cell_type": "code",
   "execution_count": 73,
   "metadata": {},
   "outputs": [],
   "source": [
    "phrases[abstracts_only[3]]\n",
    "abstracts_phrased = list(map(lambda x: phrases[x], abstracts_only))"
   ]
  },
  {
   "cell_type": "code",
   "execution_count": 75,
   "metadata": {},
   "outputs": [],
   "source": [
    "# Build phrase model\n",
    "phrase_model = gensim.models.Word2Vec(abstracts_phrased, \n",
    "                                      vector_size=256,\n",
    "                                      window=7,\n",
    "                                      min_count=4,\n",
    "                                      workers=10,\n",
    "                                      epochs=20)"
   ]
  },
  {
   "cell_type": "code",
   "execution_count": 87,
   "metadata": {},
   "outputs": [],
   "source": [
    "phrase_model.save(\"../gensim_models/gensim_word_vectors_256_phrases.model\")"
   ]
  },
  {
   "cell_type": "code",
   "execution_count": 93,
   "metadata": {},
   "outputs": [
    {
     "data": {
      "text/plain": [
       "0.7229732275009155"
      ]
     },
     "execution_count": 93,
     "metadata": {},
     "output_type": "execute_result"
    }
   ],
   "source": [
    "phrase_model.wv.distance(\"calibration\", \"implied_volatility\")"
   ]
  },
  {
   "cell_type": "code",
   "execution_count": 2,
   "metadata": {},
   "outputs": [],
   "source": [
    "# Load existing models\n",
    "phrases_model = gensim.models.Word2Vec.load(\"../gensim_models/gensim_word_vectors_256_phrases.model\")\n",
    "phrases = gensim.models.Phrases.load('../gensim_models/phrases_model_threshold7.txt')"
   ]
  },
  {
   "cell_type": "code",
   "execution_count": 39,
   "metadata": {},
   "outputs": [],
   "source": [
    "def wm_distance_estimator(phrases_list, phrases_model):\n",
    "    def estimate(abstract_1, abstract_2):\n",
    "        processed_1 = phrases_list[gensim.utils.simple_preprocess(abstract_1)]\n",
    "        processed_2 = phrases_list[gensim.utils.simple_preprocess(abstract_2)]\n",
    "        return phrases_model.wv.wmdistance(processed_1, processed_2)\n",
    "    return estimate\n",
    "        \n",
    "    "
   ]
  },
  {
   "cell_type": "code",
   "execution_count": 40,
   "metadata": {},
   "outputs": [],
   "source": [
    "wm_estimator = wm_distance_estimator(phrases, phrases_model)"
   ]
  },
  {
   "cell_type": "code",
   "execution_count": 72,
   "metadata": {},
   "outputs": [],
   "source": [
    "hjm = analysis.lookup_by_handle(\"RePEc:ecm:emetrp:v:60:y:1992:i:1:p:77-105\", session).abstract\n",
    "hunt_kennedy = analysis.lookup_by_handle(\"RePEc:spr:finsto:v:4:y:2000:i:4:p:391-408\", session).abstract\n",
    "nelson_siegel = analysis.lookup_by_handle(\"RePEc:ucp:jnlbus:v:60:y:1987:i:4:p:473-89\", session).abstract\n",
    "jamshidian = analysis.lookup_by_handle(\"RePEc:spr:finsto:v:1:y:1997:i:4:p:293-330\", session).abstract\n",
    "bradley_crane = analysis.lookup_by_handle(\"RePEc:inm:ormnsc:v:19:y:1972:i:2:p:139-151\", session).abstract\n",
    "bgm = analysis.lookup_by_handle(\"RePEc:bla:mathfi:v:7:y:1997:i:2:p:127-155\", session).abstract\n",
    "cir = analysis.lookup_by_handle(\"RePEc:ecm:emetrp:v:53:y:1985:i:2:p:385-407\", session).abstract\n",
    "andersen = analysis.lookup_by_handle(\"RePEc:taf:apmtfi:v:7:y:2000:i:1:p:1-32\", session).abstract"
   ]
  },
  {
   "cell_type": "code",
   "execution_count": 42,
   "metadata": {},
   "outputs": [],
   "source": [
    "dist1 = wm_estimator(hjm, hunt_kennedy)"
   ]
  },
  {
   "cell_type": "code",
   "execution_count": 43,
   "metadata": {},
   "outputs": [
    {
     "data": {
      "text/plain": [
       "0.841962866854799"
      ]
     },
     "execution_count": 43,
     "metadata": {},
     "output_type": "execute_result"
    }
   ],
   "source": [
    "dist1"
   ]
  },
  {
   "cell_type": "code",
   "execution_count": 44,
   "metadata": {},
   "outputs": [],
   "source": [
    "dist2 = wm_estimator(hjm, nelson_siegel)"
   ]
  },
  {
   "cell_type": "code",
   "execution_count": 45,
   "metadata": {},
   "outputs": [
    {
     "data": {
      "text/plain": [
       "0.9102496451253718"
      ]
     },
     "execution_count": 45,
     "metadata": {},
     "output_type": "execute_result"
    }
   ],
   "source": [
    "dist2"
   ]
  },
  {
   "cell_type": "code",
   "execution_count": 51,
   "metadata": {},
   "outputs": [],
   "source": [
    "dist3 = wm_estimator(hjm, jamshidian)"
   ]
  },
  {
   "cell_type": "code",
   "execution_count": 52,
   "metadata": {},
   "outputs": [
    {
     "data": {
      "text/plain": [
       "0.9191931830335097"
      ]
     },
     "execution_count": 52,
     "metadata": {},
     "output_type": "execute_result"
    }
   ],
   "source": [
    "dist3"
   ]
  },
  {
   "cell_type": "code",
   "execution_count": 59,
   "metadata": {},
   "outputs": [],
   "source": [
    "dist4 = wm_estimator(hjm, bradley_crane)"
   ]
  },
  {
   "cell_type": "code",
   "execution_count": 60,
   "metadata": {},
   "outputs": [
    {
     "data": {
      "text/plain": [
       "0.8722548682633106"
      ]
     },
     "execution_count": 60,
     "metadata": {},
     "output_type": "execute_result"
    }
   ],
   "source": [
    "dist4"
   ]
  },
  {
   "cell_type": "code",
   "execution_count": 63,
   "metadata": {},
   "outputs": [
    {
     "data": {
      "text/plain": [
       "'A class of term structure models with volatility of lognormal type is analyzed in the general HJM framework. The corresponding market forward rates do not explode, and are positive and mean reverting. Pricing of caps and floors is consistent with the Black formulas used in the market. Swaptions are priced with closed formulas that reduce (with an extra assumption) to exactly the Black swaption formulas when yield and volatility are flat. A two–factor version of the model is calibrated to the U.K. market price of caps and swaptions and to the historically estimated correlation between the forward rates.'"
      ]
     },
     "execution_count": 63,
     "metadata": {},
     "output_type": "execute_result"
    }
   ],
   "source": [
    "jamshidian\n",
    "bgm"
   ]
  },
  {
   "cell_type": "code",
   "execution_count": 66,
   "metadata": {},
   "outputs": [],
   "source": [
    "dist5 = wm_estimator(jamshidian, bgm)"
   ]
  },
  {
   "cell_type": "code",
   "execution_count": 67,
   "metadata": {},
   "outputs": [
    {
     "data": {
      "text/plain": [
       "0.7984474484594413"
      ]
     },
     "execution_count": 67,
     "metadata": {},
     "output_type": "execute_result"
    }
   ],
   "source": [
    "dist5"
   ]
  },
  {
   "cell_type": "code",
   "execution_count": 70,
   "metadata": {},
   "outputs": [],
   "source": [
    "dist6 = wm_estimator(jamshidian, cir)"
   ]
  },
  {
   "cell_type": "code",
   "execution_count": 71,
   "metadata": {},
   "outputs": [
    {
     "data": {
      "text/plain": [
       "0.9377679905619464"
      ]
     },
     "execution_count": 71,
     "metadata": {},
     "output_type": "execute_result"
    }
   ],
   "source": [
    "dist6"
   ]
  },
  {
   "cell_type": "code",
   "execution_count": 74,
   "metadata": {},
   "outputs": [],
   "source": [
    "dist7 = wm_estimator(jamshidian, andersen)"
   ]
  },
  {
   "cell_type": "code",
   "execution_count": 75,
   "metadata": {},
   "outputs": [
    {
     "data": {
      "text/plain": [
       "0.8210132326610072"
      ]
     },
     "execution_count": 75,
     "metadata": {},
     "output_type": "execute_result"
    }
   ],
   "source": [
    "dist7"
   ]
  },
  {
   "cell_type": "code",
   "execution_count": null,
   "metadata": {},
   "outputs": [],
   "source": []
  }
 ],
 "metadata": {
  "kernelspec": {
   "display_name": "Python 3",
   "language": "python",
   "name": "python3"
  },
  "language_info": {
   "codemirror_mode": {
    "name": "ipython",
    "version": 3
   },
   "file_extension": ".py",
   "mimetype": "text/x-python",
   "name": "python",
   "nbconvert_exporter": "python",
   "pygments_lexer": "ipython3",
   "version": "3.8.0"
  }
 },
 "nbformat": 4,
 "nbformat_minor": 4
}